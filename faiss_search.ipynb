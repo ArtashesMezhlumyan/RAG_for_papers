{
 "cells": [
  {
   "cell_type": "code",
   "execution_count": 6,
   "metadata": {},
   "outputs": [],
   "source": [
    "import faiss\n",
    "from sentence_transformers import SentenceTransformer\n",
    "import pickle\n",
    "import torch"
   ]
  },
  {
   "cell_type": "code",
   "execution_count": 7,
   "metadata": {},
   "outputs": [],
   "source": [
    "model = SentenceTransformer('multi-qa-MiniLM-L6-cos-v1')"
   ]
  },
  {
   "cell_type": "markdown",
   "metadata": {},
   "source": [
    "## L2"
   ]
  },
  {
   "cell_type": "code",
   "execution_count": 9,
   "metadata": {},
   "outputs": [
    {
     "name": "stdout",
     "output_type": "stream",
     "text": [
      "Nearest neighbors and their distances:\n",
      "Sentence:   The evolution of Earth-Moon system is described by the dark matter field\n",
      "fluid model proposed in the Meeting of Division of Particle and Field 2004,\n",
      "American Physical Society. The current behavior of the Earth-Moon system agrees\n",
      "with this model very well and the general pattern of the evolution of the\n",
      "Moon-Earth system described by this model agrees with geological and fossil\n",
      "evidence. The closest distance of the Moon to Earth was about 259000 km at 4.5\n",
      "billion years ago, which is far beyond the Roche's limit. The result suggests\n",
      "that the tidal friction may not be the primary cause for the evolution of the\n",
      "Earth-Moon system. The average dark matter field fluid constant derived from\n",
      "Earth-Moon system data is 4.39 x 10^(-22) s^(-1)m^(-1). This model predicts\n",
      "that the Mars's rotation is also slowing with the angular acceleration rate\n",
      "about -4.38 x 10^(-22) rad s^(-2).\n",
      ", Distance: 4.1173\n",
      "Sentence:   We describe a new algorithm, the $(k,\\ell)$-pebble game with colors, and use\n",
      "it obtain a characterization of the family of $(k,\\ell)$-sparse graphs and\n",
      "algorithmic solutions to a family of problems concerning tree decompositions of\n",
      "graphs. Special instances of sparse graphs appear in rigidity theory and have\n",
      "received increased attention in recent years. In particular, our colored\n",
      "pebbles generalize and strengthen the previous results of Lee and Streinu and\n",
      "give a new proof of the Tutte-Nash-Williams characterization of arboricity. We\n",
      "also present a new decomposition that certifies sparsity based on the\n",
      "$(k,\\ell)$-pebble game with colors. Our work also exposes connections between\n",
      "pebble game algorithms and previous sparse graph algorithms by Gabow, Gabow and\n",
      "Westermann and Hendrickson.\n",
      ", Distance: 4.4986\n",
      "Sentence:   A fully differential calculation in perturbative quantum chromodynamics is\n",
      "presented for the production of massive photon pairs at hadron colliders. All\n",
      "next-to-leading order perturbative contributions from quark-antiquark,\n",
      "gluon-(anti)quark, and gluon-gluon subprocesses are included, as well as\n",
      "all-orders resummation of initial-state gluon radiation valid at\n",
      "next-to-next-to-leading logarithmic accuracy. The region of phase space is\n",
      "specified in which the calculation is most reliable. Good agreement is\n",
      "demonstrated with data from the Fermilab Tevatron, and predictions are made for\n",
      "more detailed tests with CDF and DO data. Predictions are shown for\n",
      "distributions of diphoton pairs produced at the energy of the Large Hadron\n",
      "Collider (LHC). Distributions of the diphoton pairs from the decay of a Higgs\n",
      "boson are contrasted with those produced from QCD processes at the LHC, showing\n",
      "that enhanced sensitivity to the signal can be obtained with judicious\n",
      "selection of events.\n",
      ", Distance: 7.3414\n",
      "Sentence:   The evolution of Earth-Moon system is described by the dark matter field\n",
      "fluid model proposed in the Meeting of Division of Particle and Field 2004,\n",
      "American Physical Society. The current behavior of the Earth-Moon system agrees\n",
      "with this model very well and the general pattern of the evolution of the\n",
      "Moon-Earth system described by this model agrees with geological and fossil\n",
      "evidence. The closest distance of the Moon to Earth was about 259000 km at 4.5\n",
      "billion years ago, which is far beyond the Roche's limit. The result suggests\n",
      "that the tidal friction may not be the primary cause for the evolution of the\n",
      "Earth-Moon system. The average dark matter field fluid constant derived from\n",
      "Earth-Moon system data is 4.39 x 10^(-22) s^(-1)m^(-1). This model predicts\n",
      "that the Mars's rotation is also slowing with the angular acceleration rate\n",
      "about -4.38 x 10^(-22) rad s^(-2).\n",
      ", Distance: 340282346638528859811704183484516925440.0000\n",
      "Sentence:   The evolution of Earth-Moon system is described by the dark matter field\n",
      "fluid model proposed in the Meeting of Division of Particle and Field 2004,\n",
      "American Physical Society. The current behavior of the Earth-Moon system agrees\n",
      "with this model very well and the general pattern of the evolution of the\n",
      "Moon-Earth system described by this model agrees with geological and fossil\n",
      "evidence. The closest distance of the Moon to Earth was about 259000 km at 4.5\n",
      "billion years ago, which is far beyond the Roche's limit. The result suggests\n",
      "that the tidal friction may not be the primary cause for the evolution of the\n",
      "Earth-Moon system. The average dark matter field fluid constant derived from\n",
      "Earth-Moon system data is 4.39 x 10^(-22) s^(-1)m^(-1). This model predicts\n",
      "that the Mars's rotation is also slowing with the angular acceleration rate\n",
      "about -4.38 x 10^(-22) rad s^(-2).\n",
      ", Distance: 340282346638528859811704183484516925440.0000\n"
     ]
    }
   ],
   "source": [
    "import faiss\n",
    "import numpy as np\n",
    "\n",
    "def search_nearest_neighbors(query, model, index, doc_list, k=5):\n",
    "    # Encode the query to get its embedding vector\n",
    "    query_embedding = model.encode([query])  # Ensure this is a 2D array for FAISS\n",
    "    if len(query_embedding.shape) == 1:\n",
    "        query_embedding = np.expand_dims(query_embedding, axis=0)\n",
    "\n",
    "    # Search the index for the k nearest neighbors\n",
    "    distances, indices = index.search(query_embedding, k)\n",
    "\n",
    "    # Retrieve the nearest neighbor sentences and their distances\n",
    "    nearest_neighbors = {\n",
    "        'sentences': [doc_list[idx] for idx in indices[0]],\n",
    "        'distances': distances[0]\n",
    "    }\n",
    "\n",
    "    return nearest_neighbors\n",
    "\n",
    "with open(\"embeddings.pkl\", \"rb\") as fIn:\n",
    "    stored_data = pickle.load(fIn)\n",
    "    stored_sentences = stored_data[\"sentences\"]\n",
    "    stored_embeddings = stored_data[\"embeddings\"]\n",
    "\n",
    "if isinstance(stored_embeddings, torch.Tensor):\n",
    "    stored_embeddings = stored_embeddings.cpu().numpy()  # Convert to CPU and NumPy array\n",
    "    \n",
    "# Usage example\n",
    "# Assuming 'model' is already defined and used to encode 'doc_list' into 'embeddings'\n",
    "dimension = stored_embeddings.shape[1]\n",
    "index = faiss.IndexFlatL2(dimension)\n",
    "index.add(stored_embeddings)  # Ensure 'embeddings' is a NumPy array\n",
    "\n",
    "query = \"My sister's leg broke\"\n",
    "nearest_neighbors = search_nearest_neighbors(query, model, index, stored_sentences, k=5)\n",
    "\n",
    "print(\"Nearest neighbors and their distances:\")\n",
    "for sentence, distance in zip(nearest_neighbors['sentences'], nearest_neighbors['distances']):\n",
    "    print(f\"Sentence: {sentence}, Distance: {distance:.4f}\")\n"
   ]
  }
 ],
 "metadata": {
  "kernelspec": {
   "display_name": "chatbotvenv",
   "language": "python",
   "name": "python3"
  },
  "language_info": {
   "codemirror_mode": {
    "name": "ipython",
    "version": 3
   },
   "file_extension": ".py",
   "mimetype": "text/x-python",
   "name": "python",
   "nbconvert_exporter": "python",
   "pygments_lexer": "ipython3",
   "version": "3.9.6"
  }
 },
 "nbformat": 4,
 "nbformat_minor": 2
}
