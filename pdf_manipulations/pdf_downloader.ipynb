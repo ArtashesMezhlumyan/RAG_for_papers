{
 "cells": [
  {
   "cell_type": "code",
   "execution_count": 12,
   "metadata": {},
   "outputs": [],
   "source": [
    "import requests\n",
    "def download_pdf(url: str, id: str) -> str:\n",
    "    file_path = f'{id}.pdf'\n",
    "    response = requests.get(url)\n",
    "    if response.status_code == 200:\n",
    "        with open(file_path, 'wb') as file:\n",
    "            file.write(response.content)\n",
    "        return f'PDF downloaded successfully: {file_path}'\n",
    "    else:\n",
    "        return 'Failed to download the PDF. Status code:', response.status_code\n"
   ]
  },
  {
   "cell_type": "code",
   "execution_count": 13,
   "metadata": {},
   "outputs": [
    {
     "name": "stdout",
     "output_type": "stream",
     "text": [
      "PDF downloaded successfully: 0704.0001.pdf\n"
     ]
    }
   ],
   "source": [
    "print(download_pdf('https://arxiv.org/pdf/0704.0001.pdf','0704.0001'))"
   ]
  }
 ],
 "metadata": {
  "kernelspec": {
   "display_name": "capstonevenv",
   "language": "python",
   "name": "python3"
  },
  "language_info": {
   "codemirror_mode": {
    "name": "ipython",
    "version": 3
   },
   "file_extension": ".py",
   "mimetype": "text/x-python",
   "name": "python",
   "nbconvert_exporter": "python",
   "pygments_lexer": "ipython3",
   "version": "3.9.6"
  }
 },
 "nbformat": 4,
 "nbformat_minor": 2
}
