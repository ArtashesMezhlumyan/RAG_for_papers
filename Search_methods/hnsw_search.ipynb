{
 "cells": [
  {
   "cell_type": "code",
   "execution_count": 1,
   "metadata": {},
   "outputs": [
    {
     "name": "stderr",
     "output_type": "stream",
     "text": [
      "/Users/artashesmezhlumyan/Desktop/capstone/capstonevenv/lib/python3.9/site-packages/urllib3/__init__.py:34: NotOpenSSLWarning: urllib3 v2 only supports OpenSSL 1.1.1+, currently the 'ssl' module is compiled with 'LibreSSL 2.8.3'. See: https://github.com/urllib3/urllib3/issues/3020\n",
      "  warnings.warn(\n"
     ]
    }
   ],
   "source": [
    "from hnswlib import Index\n",
    "import numpy as np\n",
    "from sentence_transformers import SentenceTransformer\n",
    "import time\n",
    "import pickle\n",
    "import hnswlib\n",
    "import torch"
   ]
  },
  {
   "cell_type": "code",
   "execution_count": 2,
   "metadata": {},
   "outputs": [
    {
     "name": "stderr",
     "output_type": "stream",
     "text": [
      "/Users/artashesmezhlumyan/Desktop/capstone/capstonevenv/lib/python3.9/site-packages/torch/_utils.py:831: UserWarning: TypedStorage is deprecated. It will be removed in the future and UntypedStorage will be the only storage class. This should only matter to you if you are using storages directly.  To access UntypedStorage directly, use tensor.untyped_storage() instead of tensor.storage()\n",
      "  return self.fget.__get__(instance, owner)()\n"
     ]
    }
   ],
   "source": [
    "model = SentenceTransformer('multi-qa-MiniLM-L6-cos-v1')"
   ]
  },
  {
   "cell_type": "markdown",
   "metadata": {},
   "source": [
    "## Cosie search"
   ]
  },
  {
   "cell_type": "code",
   "execution_count": 3,
   "metadata": {},
   "outputs": [
    {
     "name": "stdout",
     "output_type": "stream",
     "text": [
      "(200, 384)\n",
      "384\n",
      "<class 'numpy.ndarray'>\n",
      "(200, 384)\n",
      "Top 3 similar sentences are:\n",
      "1. ('  A fully differential calculation in perturbative quantum chromodynamics is\\npresented for the production of massive photon pairs at hadron colliders. All\\nnext-to-leading order perturbative contributions from quark-antiquark,\\ngluon-(anti)quark, and gluon-gluon subprocesses are included, as well as\\nall-orders resummation of initial-state gluon radiation valid at\\nnext-to-next-to-leading logarithmic accuracy. The region of phase space is\\nspecified in which the calculation is most reliable. Good agreement is\\ndemonstrated with data from the Fermilab Tevatron, and predictions are made for\\nmore detailed tests with CDF and DO data. Predictions are shown for\\ndistributions of diphoton pairs produced at the energy of the Large Hadron\\nCollider (LHC). Distributions of the diphoton pairs from the decay of a Higgs\\nboson are contrasted with those produced from QCD processes at the LHC, showing\\nthat enhanced sensitivity to the signal can be obtained with judicious\\nselection of events.\\n', 0.4476039409637451)\n",
      "2. ('  We investigate the Coulomb excitation of low-lying states of unstable nuclei\\nin intermediate energy collisions ($E_{lab}\\\\sim10-500$ MeV/nucleon). It is\\nshown that the cross sections for the $E1$ and $E2$ transitions are larger at\\nlower energies, much less than 10 MeV/nucleon. Retardation effects and Coulomb\\ndistortion are found to be both relevant for energies as low as 10 MeV/nucleon\\nand as high as 500 MeV/nucleon. Implications for studies at radioactive beam\\nfacilities are discussed.\\n', 0.3470005989074707)\n",
      "3. ('  We present recent advances in understanding of the ground and excited states\\nof the electron-phonon coupled systems obtained by novel methods of\\nDiagrammatic Monte Carlo and Stochastic Optimization, which enable the\\napproximation-free calculation of Matsubara Green function in imaginary times\\nand perform unbiased analytic continuation to real frequencies. We present\\nexact numeric results on the ground state properties, Lehmann spectral function\\nand optical conductivity of different strongly correlated systems: Frohlich\\npolaron, Rashba-Pekar exciton-polaron, pseudo Jahn-Teller polaron, exciton, and\\ninteracting with phonons hole in the t-J model.\\n', 0.33712178468704224)\n"
     ]
    }
   ],
   "source": [
    "\n",
    "def search_similar_sentences(query, index, doc_list, k=5):\n",
    "    query_embedding = model.encode([query])\n",
    "\n",
    "    labels, distances = index.knn_query(query_embedding, k=k)\n",
    "    similar_sentences_with_scores = [(doc_list[label], 1 - distance) for label, distance in zip(labels[0], distances[0])]\n",
    "\n",
    "    return similar_sentences_with_scores\n",
    "\n",
    "\n",
    "with open(\"../dataset/embeddings.pkl\", \"rb\") as fIn:\n",
    "    stored_data = pickle.load(fIn)\n",
    "    stored_sentences = stored_data[\"sentences\"]\n",
    "    stored_embeddings = stored_data[\"embeddings\"]\n",
    "\n",
    "if isinstance(stored_embeddings, torch.Tensor):\n",
    "    stored_embeddings = stored_embeddings.cpu().numpy()  \n",
    "print(stored_embeddings.shape)\n",
    "dimension = stored_embeddings.shape[1]\n",
    "print(dimension)\n",
    "p = hnswlib.Index(space='cosine', dim=dimension)\n",
    "p.init_index(max_elements=10000, ef_construction=200, M=16)\n",
    "print(type(stored_embeddings))\n",
    "print(stored_embeddings.shape)\n",
    "p.add_items(stored_embeddings)  \n",
    "p.set_ef(50) \n",
    "\n",
    "new_sentence = \"What is the level of agreement between the fully differential calculation in perturbative quantum chromodynamics for the production of massive photon pairs and data from the Fermilab Tevatron, and what predictions are made for more detailed tests with CDF and DO data\"\n",
    "top_similar_sentences = search_similar_sentences(new_sentence, p, stored_sentences, k=3)\n",
    "\n",
    "print(\"Top 3 similar sentences are:\")\n",
    "for i, sentence in enumerate(top_similar_sentences):\n",
    "    print(f\"{i+1}. {sentence}\")\n"
   ]
  },
  {
   "cell_type": "markdown",
   "metadata": {},
   "source": [
    "## IP"
   ]
  },
  {
   "cell_type": "code",
   "execution_count": 9,
   "metadata": {},
   "outputs": [
    {
     "name": "stdout",
     "output_type": "stream",
     "text": [
      "Top 3 similar sentences are:\n",
      "1. ('  We describe a new algorithm, the $(k,\\\\ell)$-pebble game with colors, and use\\nit obtain a characterization of the family of $(k,\\\\ell)$-sparse graphs and\\nalgorithmic solutions to a family of problems concerning tree decompositions of\\ngraphs. Special instances of sparse graphs appear in rigidity theory and have\\nreceived increased attention in recent years. In particular, our colored\\npebbles generalize and strengthen the previous results of Lee and Streinu and\\ngive a new proof of the Tutte-Nash-Williams characterization of arboricity. We\\nalso present a new decomposition that certifies sparsity based on the\\n$(k,\\\\ell)$-pebble game with colors. Our work also exposes connections between\\npebble game algorithms and previous sparse graph algorithms by Gabow, Gabow and\\nWestermann and Hendrickson.\\n', 0.026975154876708984)\n",
      "2. (\"  The evolution of Earth-Moon system is described by the dark matter field\\nfluid model proposed in the Meeting of Division of Particle and Field 2004,\\nAmerican Physical Society. The current behavior of the Earth-Moon system agrees\\nwith this model very well and the general pattern of the evolution of the\\nMoon-Earth system described by this model agrees with geological and fossil\\nevidence. The closest distance of the Moon to Earth was about 259000 km at 4.5\\nbillion years ago, which is far beyond the Roche's limit. The result suggests\\nthat the tidal friction may not be the primary cause for the evolution of the\\nEarth-Moon system. The average dark matter field fluid constant derived from\\nEarth-Moon system data is 4.39 x 10^(-22) s^(-1)m^(-1). This model predicts\\nthat the Mars's rotation is also slowing with the angular acceleration rate\\nabout -4.38 x 10^(-22) rad s^(-2).\\n\", -0.006630659103393555)\n",
      "3. ('  A fully differential calculation in perturbative quantum chromodynamics is\\npresented for the production of massive photon pairs at hadron colliders. All\\nnext-to-leading order perturbative contributions from quark-antiquark,\\ngluon-(anti)quark, and gluon-gluon subprocesses are included, as well as\\nall-orders resummation of initial-state gluon radiation valid at\\nnext-to-next-to-leading logarithmic accuracy. The region of phase space is\\nspecified in which the calculation is most reliable. Good agreement is\\ndemonstrated with data from the Fermilab Tevatron, and predictions are made for\\nmore detailed tests with CDF and DO data. Predictions are shown for\\ndistributions of diphoton pairs produced at the energy of the Large Hadron\\nCollider (LHC). Distributions of the diphoton pairs from the decay of a Higgs\\nboson are contrasted with those produced from QCD processes at the LHC, showing\\nthat enhanced sensitivity to the signal can be obtained with judicious\\nselection of events.\\n', -0.013648390769958496)\n"
     ]
    }
   ],
   "source": [
    "\n",
    "def search_similar_sentences(query, index, doc_list, k=5):\n",
    "    query_embedding = model.encode([query])\n",
    "\n",
    "    labels, distances = index.knn_query(query_embedding, k=k)\n",
    "    similar_sentences_with_scores = [(doc_list[label], 1 - distance) for label, distance in zip(labels[0], distances[0])]\n",
    "\n",
    "    return similar_sentences_with_scores\n",
    "\n",
    "\n",
    "with open(\"../dataset/embeddings.pkl\", \"rb\") as fIn:\n",
    "    stored_data = pickle.load(fIn)\n",
    "    stored_sentences = stored_data[\"sentences\"]\n",
    "    stored_embeddings = stored_data[\"embeddings\"]\n",
    "\n",
    "\n",
    "if isinstance(stored_embeddings, torch.Tensor):\n",
    "    stored_embeddings = stored_embeddings.cpu().numpy()  \n",
    "\n",
    "dimension = stored_embeddings.shape[1]\n",
    "p = hnswlib.Index(space='ip', dim=dimension)\n",
    "p.init_index(max_elements=10000, ef_construction=200, M=16)\n",
    "p.add_items(stored_embeddings)  \n",
    "p.set_ef(50)  \n",
    "\n",
    "new_sentence = \"What is the level of agreement between the fully differential calculation in perturbative quantum chromodynamics for the production of massive photon pairs and data from the Fermilab Tevatron, and what predictions are made for more detailed tests with CDF and DO data\"\n",
    "top_similar_sentences = search_similar_sentences(new_sentence, p, stored_sentences, k=3)\n",
    "\n",
    "print(\"Top 3 similar sentences are:\")\n",
    "for i, sentence in enumerate(top_similar_sentences):\n",
    "    print(f\"{i+1}. {sentence}\")\n"
   ]
  },
  {
   "cell_type": "markdown",
   "metadata": {},
   "source": [
    "## L2"
   ]
  },
  {
   "cell_type": "code",
   "execution_count": 4,
   "metadata": {},
   "outputs": [
    {
     "name": "stdout",
     "output_type": "stream",
     "text": [
      "Top 3 similar sentences are:\n",
      "1. ('  A fully differential calculation in perturbative quantum chromodynamics is\\npresented for the production of massive photon pairs at hadron colliders. All\\nnext-to-leading order perturbative contributions from quark-antiquark,\\ngluon-(anti)quark, and gluon-gluon subprocesses are included, as well as\\nall-orders resummation of initial-state gluon radiation valid at\\nnext-to-next-to-leading logarithmic accuracy. The region of phase space is\\nspecified in which the calculation is most reliable. Good agreement is\\ndemonstrated with data from the Fermilab Tevatron, and predictions are made for\\nmore detailed tests with CDF and DO data. Predictions are shown for\\ndistributions of diphoton pairs produced at the energy of the Large Hadron\\nCollider (LHC). Distributions of the diphoton pairs from the decay of a Higgs\\nboson are contrasted with those produced from QCD processes at the LHC, showing\\nthat enhanced sensitivity to the signal can be obtained with judicious\\nselection of events.\\n', 0.05107235908508301)\n",
      "2. ('  The very nature of the solar chromosphere, its structuring and dynamics,\\nremains far from being properly understood, in spite of intensive research.\\nHere we point out the potential of chromospheric observations at millimeter\\nwavelengths to resolve this long-standing problem. Computations carried out\\nwith a sophisticated dynamic model of the solar chromosphere due to Carlsson\\nand Stein demonstrate that millimeter emission is extremely sensitive to\\ndynamic processes in the chromosphere and the appropriate wavelengths to look\\nfor dynamic signatures are in the range 0.8-5.0 mm. The model also suggests\\nthat high resolution observations at mm wavelengths, as will be provided by\\nALMA, will have the unique property of reacting to both the hot and the cool\\ngas, and thus will have the potential of distinguishing between rival models of\\nthe solar atmosphere. Thus, initial results obtained from the observations of\\nthe quiet Sun at 3.5 mm with the BIMA array (resolution of 12 arcsec) reveal\\nsignificant oscillations with amplitudes of 50-150 K and frequencies of 1.5-8\\nmHz with a tendency toward short-period oscillations in internetwork and longer\\nperiods in network regions. However higher spatial resolution, such as that\\nprovided by ALMA, is required for a clean separation between the features\\nwithin the solar atmosphere and for an adequate comparison with the output of\\nthe comprehensive dynamic simulations.\\n', -0.19661688804626465)\n",
      "3. ('  We present semi-analytical constraint on the amount of dark matter in the\\nmerging bullet galaxy cluster using the classical Local Group timing arguments.\\nWe consider particle orbits in potential models which fit the lensing data.\\n{\\\\it Marginally consistent} CDM models in Newtonian gravity are found with a\\ntotal mass M_{CDM} = 1 x 10^{15}Msun of Cold DM: the bullet subhalo can move\\nwith V_{DM}=3000km/s, and the \"bullet\" X-ray gas can move with\\nV_{gas}=4200km/s. These are nearly the {\\\\it maximum speeds} that are\\naccelerable by the gravity of two truncated CDM halos in a Hubble time even\\nwithout the ram pressure. Consistency breaks down if one adopts higher end of\\nthe error bars for the bullet gas speed (5000-5400km/s), and the bullet gas\\nwould not be bound by the sub-cluster halo for the Hubble time. Models with\\nV_{DM}~ 4500km/s ~ V_{gas} would invoke unrealistic large amount M_{CDM}=7x\\n10^{15}Msun of CDM for a cluster containing only ~ 10^{14}Msun of gas. Our\\nresults are generalisable beyond General Relativity, e.g., a speed of\\n$4500\\\\kms$ is easily obtained in the relativistic MONDian lensing model of\\nAngus et al. (2007). However, MONDian model with little hot dark matter\\n$M_{HDM} \\\\le 0.6\\\\times 10^{15}\\\\msun$ and CDM model with a small halo mass $\\\\le\\n1\\\\times 10^{15}\\\\msun$ are barely consistent with lensing and velocity data.\\n', -0.20153295993804932)\n"
     ]
    }
   ],
   "source": [
    "\n",
    "def search_similar_sentences(query, index, doc_list, k=5):\n",
    "    query_embedding = model.encode([query])\n",
    "\n",
    "    labels, distances = index.knn_query(query_embedding, k=k)\n",
    "    similar_sentences_with_scores = [(doc_list[label], 1 - distance) for label, distance in zip(labels[0], distances[0])]\n",
    "\n",
    "    return similar_sentences_with_scores\n",
    "\n",
    "\n",
    "with open(\"../dataset/embeddings.pkl\", \"rb\") as fIn:\n",
    "    stored_data = pickle.load(fIn)\n",
    "    stored_sentences = stored_data[\"sentences\"]\n",
    "    stored_embeddings = stored_data[\"embeddings\"]\n",
    "\n",
    "\n",
    "if isinstance(stored_embeddings, torch.Tensor):\n",
    "    stored_embeddings = stored_embeddings.cpu().numpy()  \n",
    "\n",
    "dimension = stored_embeddings.shape[1]\n",
    "p = hnswlib.Index(space='l2', dim=dimension)\n",
    "p.init_index(max_elements=10000, ef_construction=200, M=16)\n",
    "p.add_items(stored_embeddings)  \n",
    "p.set_ef(50)  \n",
    "\n",
    "new_sentence = \"What is the level of agreement between the fully differential calculation in perturbative quantum chromodynamics for the production of massive photon pairs and data from the Fermilab Tevatron, and what predictions are made for more detailed tests with CDF and DO data\"\n",
    "top_similar_sentences = search_similar_sentences(new_sentence, p, stored_sentences, k=3)\n",
    "\n",
    "print(\"Top 3 similar sentences are:\")\n",
    "for i, sentence in enumerate(top_similar_sentences):\n",
    "    print(f\"{i+1}. {sentence}\")\n"
   ]
  },
  {
   "cell_type": "code",
   "execution_count": null,
   "metadata": {},
   "outputs": [],
   "source": []
  }
 ],
 "metadata": {
  "kernelspec": {
   "display_name": "chatbotvenv",
   "language": "python",
   "name": "python3"
  },
  "language_info": {
   "codemirror_mode": {
    "name": "ipython",
    "version": 3
   },
   "file_extension": ".py",
   "mimetype": "text/x-python",
   "name": "python",
   "nbconvert_exporter": "python",
   "pygments_lexer": "ipython3",
   "version": "3.9.6"
  }
 },
 "nbformat": 4,
 "nbformat_minor": 2
}
