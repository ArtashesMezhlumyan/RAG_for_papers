{
 "cells": [
  {
   "cell_type": "code",
   "execution_count": 1,
   "metadata": {},
   "outputs": [
    {
     "name": "stderr",
     "output_type": "stream",
     "text": [
      "/Users/artashesmezhlumyan/Desktop/capstone/capstonevenv/lib/python3.9/site-packages/urllib3/__init__.py:34: NotOpenSSLWarning: urllib3 v2 only supports OpenSSL 1.1.1+, currently the 'ssl' module is compiled with 'LibreSSL 2.8.3'. See: https://github.com/urllib3/urllib3/issues/3020\n",
      "  warnings.warn(\n"
     ]
    }
   ],
   "source": [
    "import faiss\n",
    "from sentence_transformers import SentenceTransformer\n",
    "import pickle\n",
    "import torch"
   ]
  },
  {
   "cell_type": "code",
   "execution_count": 2,
   "metadata": {},
   "outputs": [
    {
     "name": "stderr",
     "output_type": "stream",
     "text": [
      "/Users/artashesmezhlumyan/Desktop/capstone/capstonevenv/lib/python3.9/site-packages/torch/_utils.py:831: UserWarning: TypedStorage is deprecated. It will be removed in the future and UntypedStorage will be the only storage class. This should only matter to you if you are using storages directly.  To access UntypedStorage directly, use tensor.untyped_storage() instead of tensor.storage()\n",
      "  return self.fget.__get__(instance, owner)()\n"
     ]
    }
   ],
   "source": [
    "model = SentenceTransformer('multi-qa-MiniLM-L6-cos-v1')"
   ]
  },
  {
   "cell_type": "markdown",
   "metadata": {},
   "source": [
    "## L2"
   ]
  },
  {
   "cell_type": "code",
   "execution_count": 3,
   "metadata": {},
   "outputs": [
    {
     "name": "stdout",
     "output_type": "stream",
     "text": [
      "Nearest neighbors and their distances:\n",
      "Sentence:   A fully differential calculation in perturbative quantum chromodynamics is\n",
      "presented for the production of massive photon pairs at hadron colliders. All\n",
      "next-to-leading order perturbative contributions from quark-antiquark,\n",
      "gluon-(anti)quark, and gluon-gluon subprocesses are included, as well as\n",
      "all-orders resummation of initial-state gluon radiation valid at\n",
      "next-to-next-to-leading logarithmic accuracy. The region of phase space is\n",
      "specified in which the calculation is most reliable. Good agreement is\n",
      "demonstrated with data from the Fermilab Tevatron, and predictions are made for\n",
      "more detailed tests with CDF and DO data. Predictions are shown for\n",
      "distributions of diphoton pairs produced at the energy of the Large Hadron\n",
      "Collider (LHC). Distributions of the diphoton pairs from the decay of a Higgs\n",
      "boson are contrasted with those produced from QCD processes at the LHC, showing\n",
      "that enhanced sensitivity to the signal can be obtained with judicious\n",
      "selection of events.\n",
      ", Distance: 0.9489\n",
      "Sentence:   The very nature of the solar chromosphere, its structuring and dynamics,\n",
      "remains far from being properly understood, in spite of intensive research.\n",
      "Here we point out the potential of chromospheric observations at millimeter\n",
      "wavelengths to resolve this long-standing problem. Computations carried out\n",
      "with a sophisticated dynamic model of the solar chromosphere due to Carlsson\n",
      "and Stein demonstrate that millimeter emission is extremely sensitive to\n",
      "dynamic processes in the chromosphere and the appropriate wavelengths to look\n",
      "for dynamic signatures are in the range 0.8-5.0 mm. The model also suggests\n",
      "that high resolution observations at mm wavelengths, as will be provided by\n",
      "ALMA, will have the unique property of reacting to both the hot and the cool\n",
      "gas, and thus will have the potential of distinguishing between rival models of\n",
      "the solar atmosphere. Thus, initial results obtained from the observations of\n",
      "the quiet Sun at 3.5 mm with the BIMA array (resolution of 12 arcsec) reveal\n",
      "significant oscillations with amplitudes of 50-150 K and frequencies of 1.5-8\n",
      "mHz with a tendency toward short-period oscillations in internetwork and longer\n",
      "periods in network regions. However higher spatial resolution, such as that\n",
      "provided by ALMA, is required for a clean separation between the features\n",
      "within the solar atmosphere and for an adequate comparison with the output of\n",
      "the comprehensive dynamic simulations.\n",
      ", Distance: 1.1966\n",
      "Sentence:   We present semi-analytical constraint on the amount of dark matter in the\n",
      "merging bullet galaxy cluster using the classical Local Group timing arguments.\n",
      "We consider particle orbits in potential models which fit the lensing data.\n",
      "{\\it Marginally consistent} CDM models in Newtonian gravity are found with a\n",
      "total mass M_{CDM} = 1 x 10^{15}Msun of Cold DM: the bullet subhalo can move\n",
      "with V_{DM}=3000km/s, and the \"bullet\" X-ray gas can move with\n",
      "V_{gas}=4200km/s. These are nearly the {\\it maximum speeds} that are\n",
      "accelerable by the gravity of two truncated CDM halos in a Hubble time even\n",
      "without the ram pressure. Consistency breaks down if one adopts higher end of\n",
      "the error bars for the bullet gas speed (5000-5400km/s), and the bullet gas\n",
      "would not be bound by the sub-cluster halo for the Hubble time. Models with\n",
      "V_{DM}~ 4500km/s ~ V_{gas} would invoke unrealistic large amount M_{CDM}=7x\n",
      "10^{15}Msun of CDM for a cluster containing only ~ 10^{14}Msun of gas. Our\n",
      "results are generalisable beyond General Relativity, e.g., a speed of\n",
      "$4500\\kms$ is easily obtained in the relativistic MONDian lensing model of\n",
      "Angus et al. (2007). However, MONDian model with little hot dark matter\n",
      "$M_{HDM} \\le 0.6\\times 10^{15}\\msun$ and CDM model with a small halo mass $\\le\n",
      "1\\times 10^{15}\\msun$ are barely consistent with lensing and velocity data.\n",
      ", Distance: 1.2015\n",
      "Sentence:   We present a new high-resolution angle-resolved photoemission study of\n",
      "1\\textit{T}-TiSe$_{2}$ in both, its room-temperature, normal phase and its\n",
      "low-temperature, charge-density wave phase. At low temperature the\n",
      "photoemission spectra are strongly modified, with large band renormalisations\n",
      "at high-symmetry points of the Brillouin zone and a very large transfer of\n",
      "spectral weight to backfolded bands. A theoretical calculation of the spectral\n",
      "function for an excitonic insulator phase reproduces the experimental features\n",
      "with very good agreement. This gives strong evidence in favour of the excitonic\n",
      "insulator scenario as a driving force for the charge-density wave transition in\n",
      "1\\textit{T}-TiSe$_{2}$.\n",
      ", Distance: 1.2095\n",
      "Sentence:   We present recent advances in understanding of the ground and excited states\n",
      "of the electron-phonon coupled systems obtained by novel methods of\n",
      "Diagrammatic Monte Carlo and Stochastic Optimization, which enable the\n",
      "approximation-free calculation of Matsubara Green function in imaginary times\n",
      "and perform unbiased analytic continuation to real frequencies. We present\n",
      "exact numeric results on the ground state properties, Lehmann spectral function\n",
      "and optical conductivity of different strongly correlated systems: Frohlich\n",
      "polaron, Rashba-Pekar exciton-polaron, pseudo Jahn-Teller polaron, exciton, and\n",
      "interacting with phonons hole in the t-J model.\n",
      ", Distance: 1.2108\n"
     ]
    }
   ],
   "source": [
    "import faiss\n",
    "import numpy as np\n",
    "\n",
    "def search_nearest_neighbors(query, model, index, doc_list, k=5):\n",
    "\n",
    "    query_embedding = model.encode([query]) \n",
    "    if len(query_embedding.shape) == 1:\n",
    "        query_embedding = np.expand_dims(query_embedding, axis=0)\n",
    "    distances, indices = index.search(query_embedding, k)\n",
    "    nearest_neighbors = {\n",
    "        'sentences': [doc_list[idx] for idx in indices[0]],\n",
    "        'distances': distances[0]\n",
    "    }\n",
    "\n",
    "    return nearest_neighbors\n",
    "\n",
    "with open(\"../dataset/embeddings.pkl\", \"rb\") as fIn:\n",
    "    stored_data = pickle.load(fIn)\n",
    "    stored_sentences = stored_data[\"sentences\"]\n",
    "    stored_embeddings = stored_data[\"embeddings\"]\n",
    "\n",
    "if isinstance(stored_embeddings, torch.Tensor):\n",
    "    stored_embeddings = stored_embeddings.cpu().numpy()  \n",
    "    \n",
    "dimension = stored_embeddings.shape[1]\n",
    "index = faiss.IndexFlatL2(dimension)\n",
    "index.add(stored_embeddings)  \n",
    "\n",
    "query = \"What is the level of agreement between the fully differential calculation in perturbative quantum chromodynamics for the production of massive photon pairs and data from the Fermilab Tevatron, and what predictions are made for more detailed tests with CDF and DO data\"\n",
    "nearest_neighbors = search_nearest_neighbors(query, model, index, stored_sentences, k=5)\n",
    "\n",
    "print(\"Nearest neighbors and their distances:\")\n",
    "for sentence, distance in zip(nearest_neighbors['sentences'], nearest_neighbors['distances']):\n",
    "    print(f\"Sentence: {sentence}, Distance: {distance:.4f}\")\n"
   ]
  },
  {
   "cell_type": "code",
   "execution_count": null,
   "metadata": {},
   "outputs": [],
   "source": []
  }
 ],
 "metadata": {
  "kernelspec": {
   "display_name": "chatbotvenv",
   "language": "python",
   "name": "python3"
  },
  "language_info": {
   "codemirror_mode": {
    "name": "ipython",
    "version": 3
   },
   "file_extension": ".py",
   "mimetype": "text/x-python",
   "name": "python",
   "nbconvert_exporter": "python",
   "pygments_lexer": "ipython3",
   "version": "3.9.6"
  }
 },
 "nbformat": 4,
 "nbformat_minor": 2
}
