{
 "cells": [
  {
   "cell_type": "code",
   "execution_count": 1,
   "metadata": {},
   "outputs": [
    {
     "name": "stderr",
     "output_type": "stream",
     "text": [
      "/Users/artashesmezhlumyan/Desktop/capstone/capstonevenv/lib/python3.9/site-packages/urllib3/__init__.py:34: NotOpenSSLWarning: urllib3 v2 only supports OpenSSL 1.1.1+, currently the 'ssl' module is compiled with 'LibreSSL 2.8.3'. See: https://github.com/urllib3/urllib3/issues/3020\n",
      "  warnings.warn(\n"
     ]
    }
   ],
   "source": [
    "import faiss\n",
    "import numpy as np\n",
    "import pandas as pd\n",
    "from scipy import spatial  \n",
    "from scipy.spatial import distance\n",
    "import ast  \n",
    "from sentence_transformers import SentenceTransformer, util\n",
    "import torch\n",
    "import pickle"
   ]
  },
  {
   "cell_type": "code",
   "execution_count": 2,
   "metadata": {},
   "outputs": [
    {
     "name": "stderr",
     "output_type": "stream",
     "text": [
      "/Users/artashesmezhlumyan/Desktop/capstone/capstonevenv/lib/python3.9/site-packages/torch/_utils.py:831: UserWarning: TypedStorage is deprecated. It will be removed in the future and UntypedStorage will be the only storage class. This should only matter to you if you are using storages directly.  To access UntypedStorage directly, use tensor.untyped_storage() instead of tensor.storage()\n",
      "  return self.fget.__get__(instance, owner)()\n"
     ]
    }
   ],
   "source": [
    "model = SentenceTransformer('multi-qa-MiniLM-L6-cos-v1')"
   ]
  },
  {
   "cell_type": "markdown",
   "metadata": {},
   "source": [
    "## Cosine Similairty"
   ]
  },
  {
   "cell_type": "code",
   "execution_count": 3,
   "metadata": {},
   "outputs": [
    {
     "name": "stdout",
     "output_type": "stream",
     "text": [
      "  A fully differential calculation in perturbative quantum chromodynamics is\n",
      "presented for the production of massive photon pairs at hadron colliders. All\n",
      "next-to-leading order perturbative contributions from quark-antiquark,\n",
      "gluon-(anti)quark, and gluon-gluon subprocesses are included, as well as\n",
      "all-orders resummation of initial-state gluon radiation valid at\n",
      "next-to-next-to-leading logarithmic accuracy. The region of phase space is\n",
      "specified in which the calculation is most reliable. Good agreement is\n",
      "demonstrated with data from the Fermilab Tevatron, and predictions are made for\n",
      "more detailed tests with CDF and DO data. Predictions are shown for\n",
      "distributions of diphoton pairs produced at the energy of the Large Hadron\n",
      "Collider (LHC). Distributions of the diphoton pairs from the decay of a Higgs\n",
      "boson are contrasted with those produced from QCD processes at the LHC, showing\n",
      "that enhanced sensitivity to the signal can be obtained with judicious\n",
      "selection of events.\n",
      " (Score: 0.4476)\n",
      "  We investigate the Coulomb excitation of low-lying states of unstable nuclei\n",
      "in intermediate energy collisions ($E_{lab}\\sim10-500$ MeV/nucleon). It is\n",
      "shown that the cross sections for the $E1$ and $E2$ transitions are larger at\n",
      "lower energies, much less than 10 MeV/nucleon. Retardation effects and Coulomb\n",
      "distortion are found to be both relevant for energies as low as 10 MeV/nucleon\n",
      "and as high as 500 MeV/nucleon. Implications for studies at radioactive beam\n",
      "facilities are discussed.\n",
      " (Score: 0.3470)\n",
      "  We present recent advances in understanding of the ground and excited states\n",
      "of the electron-phonon coupled systems obtained by novel methods of\n",
      "Diagrammatic Monte Carlo and Stochastic Optimization, which enable the\n",
      "approximation-free calculation of Matsubara Green function in imaginary times\n",
      "and perform unbiased analytic continuation to real frequencies. We present\n",
      "exact numeric results on the ground state properties, Lehmann spectral function\n",
      "and optical conductivity of different strongly correlated systems: Frohlich\n",
      "polaron, Rashba-Pekar exciton-polaron, pseudo Jahn-Teller polaron, exciton, and\n",
      "interacting with phonons hole in the t-J model.\n",
      " (Score: 0.3371)\n",
      "  In a quantum mechanical model, Diosi, Feldmann and Kosloff arrived at a\n",
      "conjecture stating that the limit of the entropy of certain mixtures is the\n",
      "relative entropy as system size goes to infinity. The conjecture is proven in\n",
      "this paper for density matrices. The first proof is analytic and uses the\n",
      "quantum law of large numbers. The second one clarifies the relation to channel\n",
      "capacity per unit cost for classical-quantum channels. Both proofs lead to\n",
      "generalization of the conjecture.\n",
      " (Score: 0.3339)\n",
      "  We present semi-analytical constraint on the amount of dark matter in the\n",
      "merging bullet galaxy cluster using the classical Local Group timing arguments.\n",
      "We consider particle orbits in potential models which fit the lensing data.\n",
      "{\\it Marginally consistent} CDM models in Newtonian gravity are found with a\n",
      "total mass M_{CDM} = 1 x 10^{15}Msun of Cold DM: the bullet subhalo can move\n",
      "with V_{DM}=3000km/s, and the \"bullet\" X-ray gas can move with\n",
      "V_{gas}=4200km/s. These are nearly the {\\it maximum speeds} that are\n",
      "accelerable by the gravity of two truncated CDM halos in a Hubble time even\n",
      "without the ram pressure. Consistency breaks down if one adopts higher end of\n",
      "the error bars for the bullet gas speed (5000-5400km/s), and the bullet gas\n",
      "would not be bound by the sub-cluster halo for the Hubble time. Models with\n",
      "V_{DM}~ 4500km/s ~ V_{gas} would invoke unrealistic large amount M_{CDM}=7x\n",
      "10^{15}Msun of CDM for a cluster containing only ~ 10^{14}Msun of gas. Our\n",
      "results are generalisable beyond General Relativity, e.g., a speed of\n",
      "$4500\\kms$ is easily obtained in the relativistic MONDian lensing model of\n",
      "Angus et al. (2007). However, MONDian model with little hot dark matter\n",
      "$M_{HDM} \\le 0.6\\times 10^{15}\\msun$ and CDM model with a small halo mass $\\le\n",
      "1\\times 10^{15}\\msun$ are barely consistent with lensing and velocity data.\n",
      " (Score: 0.3208)\n",
      "None\n"
     ]
    }
   ],
   "source": [
    "def strings_ranked_by_relatedness(\n",
    "    query: str,\n",
    "    stored_sentences,\n",
    "    stored_embeddings\n",
    "):\n",
    "    query_embedding_response = model.encode(query,convert_to_tensor=True)\n",
    "\n",
    "    top_k = min(5, len(stored_sentences))\n",
    "    cos_scores = util.cos_sim(query_embedding_response, stored_embeddings)[0]\n",
    "    top_results = torch.topk(cos_scores, k=top_k)\n",
    "\n",
    "    for score, idx in zip(top_results[0], top_results[1]):\n",
    "        print(stored_sentences[idx], \"(Score: {:.4f})\".format(score))\n",
    "    \n",
    "\n",
    "\n",
    "with open(\"../dataset/embeddings.pkl\", \"rb\") as fIn:\n",
    "    stored_data = pickle.load(fIn)\n",
    "    stored_sentences = stored_data[\"sentences\"]\n",
    "    stored_embeddings = stored_data[\"embeddings\"]\n",
    "\n",
    "\n",
    "query = \"What is the level of agreement between the fully differential calculation in perturbative quantum chromodynamics for the production of massive photon pairs and data from the Fermilab Tevatron, and what predictions are made for more detailed tests with CDF and DO data\"\n",
    "\n",
    "print(strings_ranked_by_relatedness(query, stored_sentences,stored_embeddings))"
   ]
  },
  {
   "cell_type": "markdown",
   "metadata": {},
   "source": [
    "## Semantic Search"
   ]
  },
  {
   "cell_type": "code",
   "execution_count": 4,
   "metadata": {},
   "outputs": [
    {
     "name": "stdout",
     "output_type": "stream",
     "text": [
      "[{'corpus_id': 0, 'score': 0.44760435819625854}, {'corpus_id': 59, 'score': 0.3470006585121155}, {'corpus_id': 24, 'score': 0.33712178468704224}]\n",
      "[{'text': '  A fully differential calculation in perturbative quantum chromodynamics is\\npresented for the production of massive photon pairs at hadron colliders. All\\nnext-to-leading order perturbative contributions from quark-antiquark,\\ngluon-(anti)quark, and gluon-gluon subprocesses are included, as well as\\nall-orders resummation of initial-state gluon radiation valid at\\nnext-to-next-to-leading logarithmic accuracy. The region of phase space is\\nspecified in which the calculation is most reliable. Good agreement is\\ndemonstrated with data from the Fermilab Tevatron, and predictions are made for\\nmore detailed tests with CDF and DO data. Predictions are shown for\\ndistributions of diphoton pairs produced at the energy of the Large Hadron\\nCollider (LHC). Distributions of the diphoton pairs from the decay of a Higgs\\nboson are contrasted with those produced from QCD processes at the LHC, showing\\nthat enhanced sensitivity to the signal can be obtained with judicious\\nselection of events.\\n', 'score': 0.44760435819625854}, {'text': '  We investigate the Coulomb excitation of low-lying states of unstable nuclei\\nin intermediate energy collisions ($E_{lab}\\\\sim10-500$ MeV/nucleon). It is\\nshown that the cross sections for the $E1$ and $E2$ transitions are larger at\\nlower energies, much less than 10 MeV/nucleon. Retardation effects and Coulomb\\ndistortion are found to be both relevant for energies as low as 10 MeV/nucleon\\nand as high as 500 MeV/nucleon. Implications for studies at radioactive beam\\nfacilities are discussed.\\n', 'score': 0.3470006585121155}, {'text': '  We present recent advances in understanding of the ground and excited states\\nof the electron-phonon coupled systems obtained by novel methods of\\nDiagrammatic Monte Carlo and Stochastic Optimization, which enable the\\napproximation-free calculation of Matsubara Green function in imaginary times\\nand perform unbiased analytic continuation to real frequencies. We present\\nexact numeric results on the ground state properties, Lehmann spectral function\\nand optical conductivity of different strongly correlated systems: Frohlich\\npolaron, Rashba-Pekar exciton-polaron, pseudo Jahn-Teller polaron, exciton, and\\ninteracting with phonons hole in the t-J model.\\n', 'score': 0.33712178468704224}]\n"
     ]
    }
   ],
   "source": [
    "def strings_ranked_by_relatedness(\n",
    "    query: str,\n",
    "    stored_sentences,\n",
    "    stored_embeddings\n",
    "):\n",
    "    query_embedding_response = model.encode(query,convert_to_tensor=True)\n",
    "\n",
    "    top_k = min(5, len(stored_sentences))\n",
    "    cos_scores = util.semantic_search(query_embedding_response, stored_embeddings,top_k=3)[0]\n",
    "    print(cos_scores)\n",
    "\n",
    "    results = []\n",
    "    for score in cos_scores:\n",
    "        corpus_id = score['corpus_id']\n",
    "        sentence = stored_sentences[corpus_id]\n",
    "        similarity_score = score['score']\n",
    "        results.append({'text': sentence, 'score': similarity_score})\n",
    "\n",
    "    return results\n",
    "\n",
    "\n",
    "\n",
    "with open(\"../dataset/embeddings.pkl\", \"rb\") as fIn:\n",
    "    stored_data = pickle.load(fIn)\n",
    "    stored_sentences = stored_data[\"sentences\"]\n",
    "    stored_embeddings = stored_data[\"embeddings\"]\n",
    "\n",
    "\n",
    "query = \"What is the level of agreement between the fully differential calculation in perturbative quantum chromodynamics for the production of massive photon pairs and data from the Fermilab Tevatron, and what predictions are made for more detailed tests with CDF and DO data\"\n",
    "\n",
    "print(strings_ranked_by_relatedness(query, stored_sentences,stored_embeddings))"
   ]
  },
  {
   "cell_type": "code",
   "execution_count": 11,
   "metadata": {},
   "outputs": [],
   "source": []
  },
  {
   "cell_type": "code",
   "execution_count": 12,
   "metadata": {},
   "outputs": [],
   "source": []
  },
  {
   "cell_type": "code",
   "execution_count": null,
   "metadata": {},
   "outputs": [],
   "source": []
  }
 ],
 "metadata": {
  "kernelspec": {
   "display_name": "chatbotvenv",
   "language": "python",
   "name": "python3"
  },
  "language_info": {
   "codemirror_mode": {
    "name": "ipython",
    "version": 3
   },
   "file_extension": ".py",
   "mimetype": "text/x-python",
   "name": "python",
   "nbconvert_exporter": "python",
   "pygments_lexer": "ipython3",
   "version": "3.9.6"
  }
 },
 "nbformat": 4,
 "nbformat_minor": 2
}
