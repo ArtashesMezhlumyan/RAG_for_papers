{
 "cells": [
  {
   "cell_type": "code",
   "execution_count": 8,
   "metadata": {},
   "outputs": [],
   "source": [
    "import faiss\n",
    "import numpy as np\n",
    "import pandas as pd\n",
    "from scipy import spatial  # for calculating vector similarities for search\n",
    "from scipy.spatial import distance\n",
    "import ast  # for converting embeddings saved as strings back to arrays\n",
    "from sentence_transformers import SentenceTransformer, util\n",
    "import torch\n",
    "import pickle"
   ]
  },
  {
   "cell_type": "code",
   "execution_count": 9,
   "metadata": {},
   "outputs": [],
   "source": [
    "model = SentenceTransformer('multi-qa-MiniLM-L6-cos-v1')"
   ]
  },
  {
   "cell_type": "markdown",
   "metadata": {},
   "source": [
    "## Cosine Similairty"
   ]
  },
  {
   "cell_type": "code",
   "execution_count": 10,
   "metadata": {},
   "outputs": [
    {
     "name": "stdout",
     "output_type": "stream",
     "text": [
      "  We describe a new algorithm, the $(k,\\ell)$-pebble game with colors, and use\n",
      "it obtain a characterization of the family of $(k,\\ell)$-sparse graphs and\n",
      "algorithmic solutions to a family of problems concerning tree decompositions of\n",
      "graphs. Special instances of sparse graphs appear in rigidity theory and have\n",
      "received increased attention in recent years. In particular, our colored\n",
      "pebbles generalize and strengthen the previous results of Lee and Streinu and\n",
      "give a new proof of the Tutte-Nash-Williams characterization of arboricity. We\n",
      "also present a new decomposition that certifies sparsity based on the\n",
      "$(k,\\ell)$-pebble game with colors. Our work also exposes connections between\n",
      "pebble game algorithms and previous sparse graph algorithms by Gabow, Gabow and\n",
      "Westermann and Hendrickson.\n",
      " (Score: 0.0285)\n",
      "  The evolution of Earth-Moon system is described by the dark matter field\n",
      "fluid model proposed in the Meeting of Division of Particle and Field 2004,\n",
      "American Physical Society. The current behavior of the Earth-Moon system agrees\n",
      "with this model very well and the general pattern of the evolution of the\n",
      "Moon-Earth system described by this model agrees with geological and fossil\n",
      "evidence. The closest distance of the Moon to Earth was about 259000 km at 4.5\n",
      "billion years ago, which is far beyond the Roche's limit. The result suggests\n",
      "that the tidal friction may not be the primary cause for the evolution of the\n",
      "Earth-Moon system. The average dark matter field fluid constant derived from\n",
      "Earth-Moon system data is 4.39 x 10^(-22) s^(-1)m^(-1). This model predicts\n",
      "that the Mars's rotation is also slowing with the angular acceleration rate\n",
      "about -4.38 x 10^(-22) rad s^(-2).\n",
      " (Score: -0.0206)\n",
      "  A fully differential calculation in perturbative quantum chromodynamics is\n",
      "presented for the production of massive photon pairs at hadron colliders. All\n",
      "next-to-leading order perturbative contributions from quark-antiquark,\n",
      "gluon-(anti)quark, and gluon-gluon subprocesses are included, as well as\n",
      "all-orders resummation of initial-state gluon radiation valid at\n",
      "next-to-next-to-leading logarithmic accuracy. The region of phase space is\n",
      "specified in which the calculation is most reliable. Good agreement is\n",
      "demonstrated with data from the Fermilab Tevatron, and predictions are made for\n",
      "more detailed tests with CDF and DO data. Predictions are shown for\n",
      "distributions of diphoton pairs produced at the energy of the Large Hadron\n",
      "Collider (LHC). Distributions of the diphoton pairs from the decay of a Higgs\n",
      "boson are contrasted with those produced from QCD processes at the LHC, showing\n",
      "that enhanced sensitivity to the signal can be obtained with judicious\n",
      "selection of events.\n",
      " (Score: -0.1170)\n",
      "None\n"
     ]
    }
   ],
   "source": [
    "def strings_ranked_by_relatedness(\n",
    "    query: str,\n",
    "    stored_sentences,\n",
    "    stored_embeddings\n",
    "):\n",
    "    query_embedding_response = model.encode(query,convert_to_tensor=True)\n",
    "\n",
    "    top_k = min(5, len(stored_sentences))\n",
    "    cos_scores = util.cos_sim(query_embedding_response, stored_embeddings)[0]\n",
    "    top_results = torch.topk(cos_scores, k=top_k)\n",
    "\n",
    "    for score, idx in zip(top_results[0], top_results[1]):\n",
    "        print(stored_sentences[idx], \"(Score: {:.4f})\".format(score))\n",
    "    \n",
    "\n",
    "\n",
    "with open(\"embeddings.pkl\", \"rb\") as fIn:\n",
    "    stored_data = pickle.load(fIn)\n",
    "    stored_sentences = stored_data[\"sentences\"]\n",
    "    stored_embeddings = stored_data[\"embeddings\"]\n",
    "\n",
    "\n",
    "query = \"Alo ALo\"\n",
    "\n",
    "print(strings_ranked_by_relatedness(query, stored_sentences,stored_embeddings))"
   ]
  },
  {
   "cell_type": "markdown",
   "metadata": {},
   "source": [
    "## Semantic Search"
   ]
  },
  {
   "cell_type": "code",
   "execution_count": 7,
   "metadata": {},
   "outputs": [
    {
     "name": "stdout",
     "output_type": "stream",
     "text": [
      "[{'corpus_id': 1, 'score': 0.028499558568000793}, {'corpus_id': 2, 'score': -0.02063983678817749}, {'corpus_id': 0, 'score': -0.11698201298713684}]\n",
      "[{'text': '  We describe a new algorithm, the $(k,\\\\ell)$-pebble game with colors, and use\\nit obtain a characterization of the family of $(k,\\\\ell)$-sparse graphs and\\nalgorithmic solutions to a family of problems concerning tree decompositions of\\ngraphs. Special instances of sparse graphs appear in rigidity theory and have\\nreceived increased attention in recent years. In particular, our colored\\npebbles generalize and strengthen the previous results of Lee and Streinu and\\ngive a new proof of the Tutte-Nash-Williams characterization of arboricity. We\\nalso present a new decomposition that certifies sparsity based on the\\n$(k,\\\\ell)$-pebble game with colors. Our work also exposes connections between\\npebble game algorithms and previous sparse graph algorithms by Gabow, Gabow and\\nWestermann and Hendrickson.\\n', 'score': 0.028499558568000793}, {'text': \"  The evolution of Earth-Moon system is described by the dark matter field\\nfluid model proposed in the Meeting of Division of Particle and Field 2004,\\nAmerican Physical Society. The current behavior of the Earth-Moon system agrees\\nwith this model very well and the general pattern of the evolution of the\\nMoon-Earth system described by this model agrees with geological and fossil\\nevidence. The closest distance of the Moon to Earth was about 259000 km at 4.5\\nbillion years ago, which is far beyond the Roche's limit. The result suggests\\nthat the tidal friction may not be the primary cause for the evolution of the\\nEarth-Moon system. The average dark matter field fluid constant derived from\\nEarth-Moon system data is 4.39 x 10^(-22) s^(-1)m^(-1). This model predicts\\nthat the Mars's rotation is also slowing with the angular acceleration rate\\nabout -4.38 x 10^(-22) rad s^(-2).\\n\", 'score': -0.02063983678817749}, {'text': '  A fully differential calculation in perturbative quantum chromodynamics is\\npresented for the production of massive photon pairs at hadron colliders. All\\nnext-to-leading order perturbative contributions from quark-antiquark,\\ngluon-(anti)quark, and gluon-gluon subprocesses are included, as well as\\nall-orders resummation of initial-state gluon radiation valid at\\nnext-to-next-to-leading logarithmic accuracy. The region of phase space is\\nspecified in which the calculation is most reliable. Good agreement is\\ndemonstrated with data from the Fermilab Tevatron, and predictions are made for\\nmore detailed tests with CDF and DO data. Predictions are shown for\\ndistributions of diphoton pairs produced at the energy of the Large Hadron\\nCollider (LHC). Distributions of the diphoton pairs from the decay of a Higgs\\nboson are contrasted with those produced from QCD processes at the LHC, showing\\nthat enhanced sensitivity to the signal can be obtained with judicious\\nselection of events.\\n', 'score': -0.11698201298713684}]\n"
     ]
    }
   ],
   "source": [
    "def strings_ranked_by_relatedness(\n",
    "    query: str,\n",
    "    stored_sentences,\n",
    "    stored_embeddings\n",
    "):\n",
    "    query_embedding_response = model.encode(query,convert_to_tensor=True)\n",
    "\n",
    "    top_k = min(5, len(stored_sentences))\n",
    "    cos_scores = util.semantic_search(query_embedding_response, stored_embeddings,top_k=3)[0]\n",
    "    print(cos_scores)\n",
    "\n",
    "    results = []\n",
    "    for score in cos_scores:\n",
    "        corpus_id = score['corpus_id']\n",
    "        sentence = stored_sentences[corpus_id]\n",
    "        similarity_score = score['score']\n",
    "        results.append({'text': sentence, 'score': similarity_score})\n",
    "\n",
    "    return results\n",
    "\n",
    "\n",
    "\n",
    "with open(\"embeddings.pkl\", \"rb\") as fIn:\n",
    "    stored_data = pickle.load(fIn)\n",
    "    stored_sentences = stored_data[\"sentences\"]\n",
    "    stored_embeddings = stored_data[\"embeddings\"]\n",
    "\n",
    "\n",
    "query = \"Alo ALo\"\n",
    "\n",
    "print(strings_ranked_by_relatedness(query, stored_sentences,stored_embeddings))"
   ]
  },
  {
   "cell_type": "code",
   "execution_count": 11,
   "metadata": {},
   "outputs": [],
   "source": [
    "# talk about how easy it is, scalability and why to not use it"
   ]
  },
  {
   "cell_type": "code",
   "execution_count": 12,
   "metadata": {},
   "outputs": [],
   "source": [
    "# its a flat index and mention which it is not usefull, and we need to use HNSW"
   ]
  },
  {
   "cell_type": "code",
   "execution_count": null,
   "metadata": {},
   "outputs": [],
   "source": []
  }
 ],
 "metadata": {
  "kernelspec": {
   "display_name": "chatbotvenv",
   "language": "python",
   "name": "python3"
  },
  "language_info": {
   "codemirror_mode": {
    "name": "ipython",
    "version": 3
   },
   "file_extension": ".py",
   "mimetype": "text/x-python",
   "name": "python",
   "nbconvert_exporter": "python",
   "pygments_lexer": "ipython3",
   "version": "3.9.6"
  }
 },
 "nbformat": 4,
 "nbformat_minor": 2
}
